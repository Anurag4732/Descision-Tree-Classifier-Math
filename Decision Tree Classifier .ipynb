{
 "cells": [
  {
   "cell_type": "markdown",
   "metadata": {},
   "source": [
    "## Decision Tree for classification:- By ID3 algoritham"
   ]
  },
  {
   "cell_type": "markdown",
   "metadata": {},
   "source": [
    "### Variables:-\n",
    "#dummy_df = Dummy dataframe\n",
    "#m = Male\n",
    "#f = Female\n",
    "#A = Grade- A\n",
    "#B = Grade- B\n",
    "#I_G_ = Information Gain"
   ]
  },
  {
   "cell_type": "code",
   "execution_count": 2,
   "metadata": {},
   "outputs": [],
   "source": [
    "import pandas as pd\n",
    "import numpy as np"
   ]
  },
  {
   "cell_type": "code",
   "execution_count": 133,
   "metadata": {},
   "outputs": [
    {
     "data": {
      "text/html": [
       "<div>\n",
       "<style scoped>\n",
       "    .dataframe tbody tr th:only-of-type {\n",
       "        vertical-align: middle;\n",
       "    }\n",
       "\n",
       "    .dataframe tbody tr th {\n",
       "        vertical-align: top;\n",
       "    }\n",
       "\n",
       "    .dataframe thead th {\n",
       "        text-align: right;\n",
       "    }\n",
       "</style>\n",
       "<table border=\"1\" class=\"dataframe\">\n",
       "  <thead>\n",
       "    <tr style=\"text-align: right;\">\n",
       "      <th></th>\n",
       "      <th>Gender</th>\n",
       "      <th>Marks</th>\n",
       "      <th>Result</th>\n",
       "    </tr>\n",
       "  </thead>\n",
       "  <tbody>\n",
       "    <tr>\n",
       "      <td>0</td>\n",
       "      <td>m</td>\n",
       "      <td>23.00</td>\n",
       "      <td>A</td>\n",
       "    </tr>\n",
       "    <tr>\n",
       "      <td>1</td>\n",
       "      <td>f</td>\n",
       "      <td>23.00</td>\n",
       "      <td>A</td>\n",
       "    </tr>\n",
       "    <tr>\n",
       "      <td>2</td>\n",
       "      <td>m</td>\n",
       "      <td>18.00</td>\n",
       "      <td>A</td>\n",
       "    </tr>\n",
       "    <tr>\n",
       "      <td>3</td>\n",
       "      <td>m</td>\n",
       "      <td>13.50</td>\n",
       "      <td>B</td>\n",
       "    </tr>\n",
       "    <tr>\n",
       "      <td>4</td>\n",
       "      <td>m</td>\n",
       "      <td>11.20</td>\n",
       "      <td>A</td>\n",
       "    </tr>\n",
       "    <tr>\n",
       "      <td>5</td>\n",
       "      <td>f</td>\n",
       "      <td>19.92</td>\n",
       "      <td>B</td>\n",
       "    </tr>\n",
       "  </tbody>\n",
       "</table>\n",
       "</div>"
      ],
      "text/plain": [
       "  Gender  Marks Result\n",
       "0      m  23.00      A\n",
       "1      f  23.00      A\n",
       "2      m  18.00      A\n",
       "3      m  13.50      B\n",
       "4      m  11.20      A\n",
       "5      f  19.92      B"
      ]
     },
     "execution_count": 133,
     "metadata": {},
     "output_type": "execute_result"
    }
   ],
   "source": [
    "dummy_df = pd.DataFrame({'Gender':['m','f','m','m','m','f'], 'Marks':[23,23,18,13.5,11.2,19.92],\n",
    "                   'Result': ['A','A','A','B','A','B']})\n",
    "dummy_df"
   ]
  },
  {
   "cell_type": "markdown",
   "metadata": {},
   "source": [
    "#### Step(1)\n",
    "Entropy of target(dummy_df['Result']):- sigma(-p log2 p)"
   ]
  },
  {
   "cell_type": "code",
   "execution_count": 151,
   "metadata": {},
   "outputs": [],
   "source": [
    "def Entropy(p,q):\n",
    "    prob_p = p/(p+q)\n",
    "    prob_q = q/(p+q)\n",
    "    return(-prob_p*np.log2(np.array([prob_p])) -prob_q*np.log2(np.array([prob_q])))"
   ]
  },
  {
   "cell_type": "code",
   "execution_count": 164,
   "metadata": {},
   "outputs": [
    {
     "data": {
      "text/plain": [
       "array([0.91829583])"
      ]
     },
     "execution_count": 164,
     "metadata": {},
     "output_type": "execute_result"
    }
   ],
   "source": [
    "A = dummy_df[dummy_df['Result'] == 'A']['Result'].shape[0]\n",
    "B = dummy_df[dummy_df['Result'] == 'B']['Result'].shape[0]\n",
    "Entropy_Target = Entropy(A,B)\n",
    "Entropy_Target"
   ]
  },
  {
   "cell_type": "markdown",
   "metadata": {},
   "source": [
    "#### Step(2)\n",
    "#Find entropy of every feature:- sigma(P(c)*E(c))\n",
    "#P(c) = Probability of c\n",
    "#E(c) = Entropy of c"
   ]
  },
  {
   "cell_type": "code",
   "execution_count": 153,
   "metadata": {},
   "outputs": [],
   "source": [
    "def Entropy_feature(m,m_a,m_b,f,f_a,f_b):\n",
    "    prob_entropy_m = m/(m+f) * Entropy(m_a,m_b)\n",
    "    prob_entropy_f = f/(m+f) * Entropy(f_a,f_b)\n",
    "    return(prob_entropy_m + prob_entropy_f)"
   ]
  },
  {
   "cell_type": "code",
   "execution_count": 154,
   "metadata": {},
   "outputs": [
    {
     "data": {
      "text/plain": [
       "array([0.87418542])"
      ]
     },
     "execution_count": 154,
     "metadata": {},
     "output_type": "execute_result"
    }
   ],
   "source": [
    "m = dummy_df[dummy_df['Gender'] == 'm'].shape[0]\n",
    "m_a = dummy_df[(dummy_df['Gender'] == 'm') & (dummy_df['Result'] == 'A')].shape[0]\n",
    "m_b = dummy_df[(dummy_df['Gender'] == 'm') & (dummy_df['Result'] == 'B')].shape[0]\n",
    "\n",
    "f = dummy_df[dummy_df['Gender'] == 'f'].shape[0]\n",
    "f_a = dummy_df[(dummy_df['Gender'] == 'f') & (dummy_df['Result'] == 'A')].shape[0] \n",
    "f_b = dummy_df[(dummy_df['Gender'] == 'f') & (dummy_df['Result'] == 'A')].shape[0] \n",
    "\n",
    "Entropy_Gender = Entropy_feature(m,m_a,m_b,f,f_a,f_b)\n",
    "Entropy_Gender"
   ]
  },
  {
   "cell_type": "markdown",
   "metadata": {},
   "source": [
    "#### Use bining method for find entropy of the continuous data points"
   ]
  },
  {
   "cell_type": "code",
   "execution_count": 138,
   "metadata": {},
   "outputs": [],
   "source": [
    "dummy_df.loc[dummy_df[(dummy_df['Marks']>=10) & (dummy_df['Marks']<15)].index, 'Marks'] = 1\n",
    "dummy_df.loc[dummy_df[(dummy_df['Marks']>=15) & (dummy_df['Marks']<20)].index, 'Marks'] = 2\n",
    "dummy_df.loc[dummy_df[(dummy_df['Marks']>=20)].index, 'Marks'] = 3"
   ]
  },
  {
   "cell_type": "code",
   "execution_count": 155,
   "metadata": {},
   "outputs": [],
   "source": [
    "def Entropy_feature(M_1, M_1_a, M_1_b, M_2, M_2_a, M_2_b, M_3, M_3_a, M_3_b):\n",
    "    prob_entropy_M_1 = M_1/(M_1+M_2+M_3) * Entropy(M_1_a, M_1_b)\n",
    "    prob_entropy_M_2 = M_2/(M_1+M_2+M_3) * Entropy(M_2_a, M_2_b)\n",
    "    prob_entropy_M_3 = M_3/(M_1+M_2+M_3) * np.array([0])\n",
    "    return(prob_entropy_M_1 + prob_entropy_M_2 + prob_entropy_M_3)"
   ]
  },
  {
   "cell_type": "code",
   "execution_count": 156,
   "metadata": {},
   "outputs": [
    {
     "data": {
      "text/plain": [
       "array([0.66666667])"
      ]
     },
     "execution_count": 156,
     "metadata": {},
     "output_type": "execute_result"
    }
   ],
   "source": [
    "M_1 = dummy_df[dummy_df['Marks'] == 1].shape[0]\n",
    "M_1_a = dummy_df[(dummy_df['Marks'] == 1) & (dummy_df['Result'] == 'A')].shape[0]\n",
    "M_1_b = dummy_df[(dummy_df['Marks'] == 1) & (dummy_df['Result'] == 'B')].shape[0]\n",
    "\n",
    "M_2 = dummy_df[dummy_df['Marks'] == 2].shape[0]\n",
    "M_2_a = dummy_df[(dummy_df['Marks'] == 2) & (dummy_df['Result'] == 'A')].shape[0] \n",
    "M_2_b = dummy_df[(dummy_df['Marks'] == 2) & (dummy_df['Result'] == 'A')].shape[0] \n",
    "\n",
    "M_3 = dummy_df[dummy_df['Marks'] == 3].shape[0]\n",
    "M_3_a = dummy_df[(dummy_df['Marks'] == 3) & (dummy_df['Result'] == 'A')].shape[0]\n",
    "M_3_b = dummy_df[(dummy_df['Marks'] == 3) & (dummy_df['Result'] == 'B')].shape[0]\n",
    "\n",
    "Entropy_Marks = Entropy_feature(M_1, M_1_a, M_1_b, M_2, M_2_a, M_2_b, M_3, M_3_a, M_3_b)\n",
    "Entropy_Marks"
   ]
  },
  {
   "cell_type": "markdown",
   "metadata": {},
   "source": [
    "#### Step(3) Find inforamtion Gain\n",
    "Entropy before split - Entropy after split"
   ]
  },
  {
   "cell_type": "code",
   "execution_count": 163,
   "metadata": {},
   "outputs": [
    {
     "name": "stdout",
     "output_type": "stream",
     "text": [
      "I_G_Gender:-  [0.04411042]\n",
      "I_G_Marks:- [0.25162917]\n"
     ]
    }
   ],
   "source": [
    "###  For Gender\n",
    "I_G_Gender = Entropy_Target - Entropy_Gender\n",
    "I_G_Marks = Entropy_Target - Entropy_Marks\n",
    "print('I_G_Gender:- ',I_G_Gender)\n",
    "print('I_G_Marks:-',I_G_Marks)"
   ]
  },
  {
   "cell_type": "markdown",
   "metadata": {},
   "source": [
    "### So I_G_Marks is greater so choose it as spliter and for next spliter we repeat this method for rest data at every node"
   ]
  },
  {
   "cell_type": "code",
   "execution_count": null,
   "metadata": {},
   "outputs": [],
   "source": []
  }
 ],
 "metadata": {
  "kernelspec": {
   "display_name": "Python 3",
   "language": "python",
   "name": "python3"
  },
  "language_info": {
   "codemirror_mode": {
    "name": "ipython",
    "version": 3
   },
   "file_extension": ".py",
   "mimetype": "text/x-python",
   "name": "python",
   "nbconvert_exporter": "python",
   "pygments_lexer": "ipython3",
   "version": "3.5.3"
  }
 },
 "nbformat": 4,
 "nbformat_minor": 2
}
